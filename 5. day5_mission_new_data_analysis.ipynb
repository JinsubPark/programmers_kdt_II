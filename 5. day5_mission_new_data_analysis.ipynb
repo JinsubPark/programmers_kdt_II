{
 "cells": [
  {
   "cell_type": "markdown",
   "metadata": {},
   "source": [
    "# Amazon Top 50 Bestselling Books 2009 - 2019\n"
   ]
  },
  {
   "cell_type": "code",
   "execution_count": 1,
   "metadata": {},
   "outputs": [],
   "source": [
    "import numpy as np\n",
    "import pandas as pd\n",
    "import matplotlib.pyplot as plt\n",
    "import seaborn as sns"
   ]
  },
  {
   "cell_type": "markdown",
   "metadata": {},
   "source": [
    "# 자료 확인"
   ]
  },
  {
   "cell_type": "code",
   "execution_count": 2,
   "metadata": {},
   "outputs": [
    {
     "data": {
      "text/html": [
       "<div>\n",
       "<style scoped>\n",
       "    .dataframe tbody tr th:only-of-type {\n",
       "        vertical-align: middle;\n",
       "    }\n",
       "\n",
       "    .dataframe tbody tr th {\n",
       "        vertical-align: top;\n",
       "    }\n",
       "\n",
       "    .dataframe thead th {\n",
       "        text-align: right;\n",
       "    }\n",
       "</style>\n",
       "<table border=\"1\" class=\"dataframe\">\n",
       "  <thead>\n",
       "    <tr style=\"text-align: right;\">\n",
       "      <th></th>\n",
       "      <th>Name</th>\n",
       "      <th>Author</th>\n",
       "      <th>User Rating</th>\n",
       "      <th>Reviews</th>\n",
       "      <th>Price</th>\n",
       "      <th>Year</th>\n",
       "      <th>Genre</th>\n",
       "    </tr>\n",
       "  </thead>\n",
       "  <tbody>\n",
       "    <tr>\n",
       "      <th>0</th>\n",
       "      <td>10-Day Green Smoothie Cleanse</td>\n",
       "      <td>JJ Smith</td>\n",
       "      <td>4.7</td>\n",
       "      <td>17350</td>\n",
       "      <td>8</td>\n",
       "      <td>2016</td>\n",
       "      <td>Non Fiction</td>\n",
       "    </tr>\n",
       "    <tr>\n",
       "      <th>1</th>\n",
       "      <td>11/22/63: A Novel</td>\n",
       "      <td>Stephen King</td>\n",
       "      <td>4.6</td>\n",
       "      <td>2052</td>\n",
       "      <td>22</td>\n",
       "      <td>2011</td>\n",
       "      <td>Fiction</td>\n",
       "    </tr>\n",
       "    <tr>\n",
       "      <th>2</th>\n",
       "      <td>12 Rules for Life: An Antidote to Chaos</td>\n",
       "      <td>Jordan B. Peterson</td>\n",
       "      <td>4.7</td>\n",
       "      <td>18979</td>\n",
       "      <td>15</td>\n",
       "      <td>2018</td>\n",
       "      <td>Non Fiction</td>\n",
       "    </tr>\n",
       "    <tr>\n",
       "      <th>3</th>\n",
       "      <td>1984 (Signet Classics)</td>\n",
       "      <td>George Orwell</td>\n",
       "      <td>4.7</td>\n",
       "      <td>21424</td>\n",
       "      <td>6</td>\n",
       "      <td>2017</td>\n",
       "      <td>Fiction</td>\n",
       "    </tr>\n",
       "    <tr>\n",
       "      <th>4</th>\n",
       "      <td>5,000 Awesome Facts (About Everything!) (Natio...</td>\n",
       "      <td>National Geographic Kids</td>\n",
       "      <td>4.8</td>\n",
       "      <td>7665</td>\n",
       "      <td>12</td>\n",
       "      <td>2019</td>\n",
       "      <td>Non Fiction</td>\n",
       "    </tr>\n",
       "    <tr>\n",
       "      <th>...</th>\n",
       "      <td>...</td>\n",
       "      <td>...</td>\n",
       "      <td>...</td>\n",
       "      <td>...</td>\n",
       "      <td>...</td>\n",
       "      <td>...</td>\n",
       "      <td>...</td>\n",
       "    </tr>\n",
       "    <tr>\n",
       "      <th>545</th>\n",
       "      <td>Wrecking Ball (Diary of a Wimpy Kid Book 14)</td>\n",
       "      <td>Jeff Kinney</td>\n",
       "      <td>4.9</td>\n",
       "      <td>9413</td>\n",
       "      <td>8</td>\n",
       "      <td>2019</td>\n",
       "      <td>Fiction</td>\n",
       "    </tr>\n",
       "    <tr>\n",
       "      <th>546</th>\n",
       "      <td>You Are a Badass: How to Stop Doubting Your Gr...</td>\n",
       "      <td>Jen Sincero</td>\n",
       "      <td>4.7</td>\n",
       "      <td>14331</td>\n",
       "      <td>8</td>\n",
       "      <td>2016</td>\n",
       "      <td>Non Fiction</td>\n",
       "    </tr>\n",
       "    <tr>\n",
       "      <th>547</th>\n",
       "      <td>You Are a Badass: How to Stop Doubting Your Gr...</td>\n",
       "      <td>Jen Sincero</td>\n",
       "      <td>4.7</td>\n",
       "      <td>14331</td>\n",
       "      <td>8</td>\n",
       "      <td>2017</td>\n",
       "      <td>Non Fiction</td>\n",
       "    </tr>\n",
       "    <tr>\n",
       "      <th>548</th>\n",
       "      <td>You Are a Badass: How to Stop Doubting Your Gr...</td>\n",
       "      <td>Jen Sincero</td>\n",
       "      <td>4.7</td>\n",
       "      <td>14331</td>\n",
       "      <td>8</td>\n",
       "      <td>2018</td>\n",
       "      <td>Non Fiction</td>\n",
       "    </tr>\n",
       "    <tr>\n",
       "      <th>549</th>\n",
       "      <td>You Are a Badass: How to Stop Doubting Your Gr...</td>\n",
       "      <td>Jen Sincero</td>\n",
       "      <td>4.7</td>\n",
       "      <td>14331</td>\n",
       "      <td>8</td>\n",
       "      <td>2019</td>\n",
       "      <td>Non Fiction</td>\n",
       "    </tr>\n",
       "  </tbody>\n",
       "</table>\n",
       "<p>550 rows × 7 columns</p>\n",
       "</div>"
      ],
      "text/plain": [
       "                                                  Name  \\\n",
       "0                        10-Day Green Smoothie Cleanse   \n",
       "1                                    11/22/63: A Novel   \n",
       "2              12 Rules for Life: An Antidote to Chaos   \n",
       "3                               1984 (Signet Classics)   \n",
       "4    5,000 Awesome Facts (About Everything!) (Natio...   \n",
       "..                                                 ...   \n",
       "545       Wrecking Ball (Diary of a Wimpy Kid Book 14)   \n",
       "546  You Are a Badass: How to Stop Doubting Your Gr...   \n",
       "547  You Are a Badass: How to Stop Doubting Your Gr...   \n",
       "548  You Are a Badass: How to Stop Doubting Your Gr...   \n",
       "549  You Are a Badass: How to Stop Doubting Your Gr...   \n",
       "\n",
       "                       Author  User Rating  Reviews  Price  Year        Genre  \n",
       "0                    JJ Smith          4.7    17350      8  2016  Non Fiction  \n",
       "1                Stephen King          4.6     2052     22  2011      Fiction  \n",
       "2          Jordan B. Peterson          4.7    18979     15  2018  Non Fiction  \n",
       "3               George Orwell          4.7    21424      6  2017      Fiction  \n",
       "4    National Geographic Kids          4.8     7665     12  2019  Non Fiction  \n",
       "..                        ...          ...      ...    ...   ...          ...  \n",
       "545               Jeff Kinney          4.9     9413      8  2019      Fiction  \n",
       "546               Jen Sincero          4.7    14331      8  2016  Non Fiction  \n",
       "547               Jen Sincero          4.7    14331      8  2017  Non Fiction  \n",
       "548               Jen Sincero          4.7    14331      8  2018  Non Fiction  \n",
       "549               Jen Sincero          4.7    14331      8  2019  Non Fiction  \n",
       "\n",
       "[550 rows x 7 columns]"
      ]
     },
     "execution_count": 2,
     "metadata": {},
     "output_type": "execute_result"
    }
   ],
   "source": [
    "book_data = pd.read_csv(\"bestsellers with categories.csv\")\n",
    "book_data"
   ]
  },
  {
   "cell_type": "markdown",
   "metadata": {},
   "source": [
    "## 의문점: 같은 책에 대해서는 어떻게 처리를 할까?\n",
    "책의 이름이나 작가명, 장르는 변하지 않는다. 하지만 그 나머지에 대해서는 3가지 경우로 나누어서 생각해볼 수 있다.\n",
    "\n",
    "가정:\n",
    "1. 년도만 바꾸고 User rating, Reviews, Prices는 동일하게 처리\n",
    "2. 년도마다 User rating, Prices는 평균을 내고 Reviews는 더한다.\n",
    "3. 년도마다 따로 계산한다.\n",
    "4. 이름은 같으나 다른 책이 존재한다.\n",
    "\n",
    "따라서\n",
    "동일한 제목을 가진 Reviews, Prices, Authors, User rating에 대해 데이터를 확인해본다."
   ]
  },
  {
   "cell_type": "markdown",
   "metadata": {},
   "source": [
    "## case1. 같은 책의 Review"
   ]
  },
  {
   "cell_type": "code",
   "execution_count": 3,
   "metadata": {},
   "outputs": [
    {
     "name": "stdout",
     "output_type": "stream",
     "text": [
      "case의 개수: 1개\n"
     ]
    },
    {
     "data": {
      "text/html": [
       "<div>\n",
       "<style scoped>\n",
       "    .dataframe tbody tr th:only-of-type {\n",
       "        vertical-align: middle;\n",
       "    }\n",
       "\n",
       "    .dataframe tbody tr th {\n",
       "        vertical-align: top;\n",
       "    }\n",
       "\n",
       "    .dataframe thead th {\n",
       "        text-align: right;\n",
       "    }\n",
       "</style>\n",
       "<table border=\"1\" class=\"dataframe\">\n",
       "  <thead>\n",
       "    <tr style=\"text-align: right;\">\n",
       "      <th></th>\n",
       "      <th>Name</th>\n",
       "      <th>Author</th>\n",
       "      <th>User Rating</th>\n",
       "      <th>Reviews</th>\n",
       "      <th>Price</th>\n",
       "      <th>Year</th>\n",
       "      <th>Genre</th>\n",
       "    </tr>\n",
       "  </thead>\n",
       "  <tbody>\n",
       "    <tr>\n",
       "      <th>331</th>\n",
       "      <td>The 7 Habits of Highly Effective People: Power...</td>\n",
       "      <td>Stephen R. Covey</td>\n",
       "      <td>4.6</td>\n",
       "      <td>9325</td>\n",
       "      <td>24</td>\n",
       "      <td>2009</td>\n",
       "      <td>Non Fiction</td>\n",
       "    </tr>\n",
       "    <tr>\n",
       "      <th>332</th>\n",
       "      <td>The 7 Habits of Highly Effective People: Power...</td>\n",
       "      <td>Stephen R. Covey</td>\n",
       "      <td>4.6</td>\n",
       "      <td>9325</td>\n",
       "      <td>24</td>\n",
       "      <td>2011</td>\n",
       "      <td>Non Fiction</td>\n",
       "    </tr>\n",
       "    <tr>\n",
       "      <th>333</th>\n",
       "      <td>The 7 Habits of Highly Effective People: Power...</td>\n",
       "      <td>Stephen R. Covey</td>\n",
       "      <td>4.6</td>\n",
       "      <td>9325</td>\n",
       "      <td>24</td>\n",
       "      <td>2012</td>\n",
       "      <td>Non Fiction</td>\n",
       "    </tr>\n",
       "    <tr>\n",
       "      <th>334</th>\n",
       "      <td>The 7 Habits of Highly Effective People: Power...</td>\n",
       "      <td>Stephen R. Covey</td>\n",
       "      <td>4.6</td>\n",
       "      <td>9325</td>\n",
       "      <td>24</td>\n",
       "      <td>2013</td>\n",
       "      <td>Non Fiction</td>\n",
       "    </tr>\n",
       "    <tr>\n",
       "      <th>335</th>\n",
       "      <td>The 7 Habits of Highly Effective People: Power...</td>\n",
       "      <td>Stephen R. Covey</td>\n",
       "      <td>4.7</td>\n",
       "      <td>4725</td>\n",
       "      <td>16</td>\n",
       "      <td>2015</td>\n",
       "      <td>Non Fiction</td>\n",
       "    </tr>\n",
       "    <tr>\n",
       "      <th>336</th>\n",
       "      <td>The 7 Habits of Highly Effective People: Power...</td>\n",
       "      <td>Stephen R. Covey</td>\n",
       "      <td>4.7</td>\n",
       "      <td>4725</td>\n",
       "      <td>16</td>\n",
       "      <td>2016</td>\n",
       "      <td>Non Fiction</td>\n",
       "    </tr>\n",
       "    <tr>\n",
       "      <th>337</th>\n",
       "      <td>The 7 Habits of Highly Effective People: Power...</td>\n",
       "      <td>Stephen R. Covey</td>\n",
       "      <td>4.7</td>\n",
       "      <td>4725</td>\n",
       "      <td>16</td>\n",
       "      <td>2017</td>\n",
       "      <td>Non Fiction</td>\n",
       "    </tr>\n",
       "  </tbody>\n",
       "</table>\n",
       "</div>"
      ],
      "text/plain": [
       "                                                  Name            Author  \\\n",
       "331  The 7 Habits of Highly Effective People: Power...  Stephen R. Covey   \n",
       "332  The 7 Habits of Highly Effective People: Power...  Stephen R. Covey   \n",
       "333  The 7 Habits of Highly Effective People: Power...  Stephen R. Covey   \n",
       "334  The 7 Habits of Highly Effective People: Power...  Stephen R. Covey   \n",
       "335  The 7 Habits of Highly Effective People: Power...  Stephen R. Covey   \n",
       "336  The 7 Habits of Highly Effective People: Power...  Stephen R. Covey   \n",
       "337  The 7 Habits of Highly Effective People: Power...  Stephen R. Covey   \n",
       "\n",
       "     User Rating  Reviews  Price  Year        Genre  \n",
       "331          4.6     9325     24  2009  Non Fiction  \n",
       "332          4.6     9325     24  2011  Non Fiction  \n",
       "333          4.6     9325     24  2012  Non Fiction  \n",
       "334          4.6     9325     24  2013  Non Fiction  \n",
       "335          4.7     4725     16  2015  Non Fiction  \n",
       "336          4.7     4725     16  2016  Non Fiction  \n",
       "337          4.7     4725     16  2017  Non Fiction  "
      ]
     },
     "execution_count": 3,
     "metadata": {},
     "output_type": "execute_result"
    }
   ],
   "source": [
    "# case1. 같은 책의 Review\n",
    "# 같은 책에서 Review 수가 다른 경우가 존재할 경우 그 책들의 데이터를 출력했다.\n",
    "\n",
    "count = 0\n",
    "name_count = book_data.groupby([\"Name\"]).count()\n",
    "long_years_books = list(name_count[name_count[\"Author\"] > 1].index)\n",
    "for name in long_years_books:\n",
    "    name_book_data = book_data[book_data[\"Name\"] == name]\n",
    "    if name_book_data[\"Reviews\"].iloc[0] != name_book_data[\"Reviews\"].mean():\n",
    "        example = name_book_data\n",
    "        count += 1\n",
    "\n",
    "print(\"case의 개수: {}개\".format(count))\n",
    "example"
   ]
  },
  {
   "cell_type": "markdown",
   "metadata": {},
   "source": [
    "### case1 분석\n",
    "- 책이 개편되어 Price가 바뀌었을 때, 동일한 책을 새로운 책으로 가정하여 데이터를 추출한 것으로 보인다.  \n",
    "그렇지 아니한 경우는, 년도가 바뀌어도 Review수는 변하지 않음으로 총 리뷰수를 합산하여 각 행마다 데이터를 추가한 것으로 보인다.\n",
    "- 경우가 1개이기 때문에 단순 오류일 가능성도 있다."
   ]
  },
  {
   "cell_type": "markdown",
   "metadata": {},
   "source": [
    "## case2. 같은 책의 Price"
   ]
  },
  {
   "cell_type": "code",
   "execution_count": 4,
   "metadata": {},
   "outputs": [
    {
     "name": "stdout",
     "output_type": "stream",
     "text": [
      "case의 개수: 9개\n"
     ]
    },
    {
     "data": {
      "text/html": [
       "<div>\n",
       "<style scoped>\n",
       "    .dataframe tbody tr th:only-of-type {\n",
       "        vertical-align: middle;\n",
       "    }\n",
       "\n",
       "    .dataframe tbody tr th {\n",
       "        vertical-align: top;\n",
       "    }\n",
       "\n",
       "    .dataframe thead th {\n",
       "        text-align: right;\n",
       "    }\n",
       "</style>\n",
       "<table border=\"1\" class=\"dataframe\">\n",
       "  <thead>\n",
       "    <tr style=\"text-align: right;\">\n",
       "      <th></th>\n",
       "      <th>Name</th>\n",
       "      <th>Author</th>\n",
       "      <th>User Rating</th>\n",
       "      <th>Reviews</th>\n",
       "      <th>Price</th>\n",
       "      <th>Year</th>\n",
       "      <th>Genre</th>\n",
       "    </tr>\n",
       "  </thead>\n",
       "  <tbody>\n",
       "    <tr>\n",
       "      <th>515</th>\n",
       "      <td>Unbroken: A World War II Story of Survival, Re...</td>\n",
       "      <td>Laura Hillenbrand</td>\n",
       "      <td>4.8</td>\n",
       "      <td>29673</td>\n",
       "      <td>16</td>\n",
       "      <td>2010</td>\n",
       "      <td>Non Fiction</td>\n",
       "    </tr>\n",
       "    <tr>\n",
       "      <th>516</th>\n",
       "      <td>Unbroken: A World War II Story of Survival, Re...</td>\n",
       "      <td>Laura Hillenbrand</td>\n",
       "      <td>4.8</td>\n",
       "      <td>29673</td>\n",
       "      <td>16</td>\n",
       "      <td>2011</td>\n",
       "      <td>Non Fiction</td>\n",
       "    </tr>\n",
       "    <tr>\n",
       "      <th>517</th>\n",
       "      <td>Unbroken: A World War II Story of Survival, Re...</td>\n",
       "      <td>Laura Hillenbrand</td>\n",
       "      <td>4.8</td>\n",
       "      <td>29673</td>\n",
       "      <td>16</td>\n",
       "      <td>2012</td>\n",
       "      <td>Non Fiction</td>\n",
       "    </tr>\n",
       "    <tr>\n",
       "      <th>518</th>\n",
       "      <td>Unbroken: A World War II Story of Survival, Re...</td>\n",
       "      <td>Laura Hillenbrand</td>\n",
       "      <td>4.8</td>\n",
       "      <td>29673</td>\n",
       "      <td>13</td>\n",
       "      <td>2014</td>\n",
       "      <td>Non Fiction</td>\n",
       "    </tr>\n",
       "    <tr>\n",
       "      <th>519</th>\n",
       "      <td>Unbroken: A World War II Story of Survival, Re...</td>\n",
       "      <td>Laura Hillenbrand</td>\n",
       "      <td>4.8</td>\n",
       "      <td>29673</td>\n",
       "      <td>16</td>\n",
       "      <td>2014</td>\n",
       "      <td>Non Fiction</td>\n",
       "    </tr>\n",
       "  </tbody>\n",
       "</table>\n",
       "</div>"
      ],
      "text/plain": [
       "                                                  Name             Author  \\\n",
       "515  Unbroken: A World War II Story of Survival, Re...  Laura Hillenbrand   \n",
       "516  Unbroken: A World War II Story of Survival, Re...  Laura Hillenbrand   \n",
       "517  Unbroken: A World War II Story of Survival, Re...  Laura Hillenbrand   \n",
       "518  Unbroken: A World War II Story of Survival, Re...  Laura Hillenbrand   \n",
       "519  Unbroken: A World War II Story of Survival, Re...  Laura Hillenbrand   \n",
       "\n",
       "     User Rating  Reviews  Price  Year        Genre  \n",
       "515          4.8    29673     16  2010  Non Fiction  \n",
       "516          4.8    29673     16  2011  Non Fiction  \n",
       "517          4.8    29673     16  2012  Non Fiction  \n",
       "518          4.8    29673     13  2014  Non Fiction  \n",
       "519          4.8    29673     16  2014  Non Fiction  "
      ]
     },
     "execution_count": 4,
     "metadata": {},
     "output_type": "execute_result"
    }
   ],
   "source": [
    "# case2. 같은 책의 Price 비교\n",
    "# 같은 책에서 Price가 다른 경우가 존재할 경우 그 책들의 데이터를 출력했다.\n",
    "\n",
    "count = 0\n",
    "name_count = book_data.groupby([\"Name\"]).count()\n",
    "long_years_books = list(name_count[name_count[\"Author\"] > 1].index)\n",
    "for name in long_years_books:\n",
    "    name_book_data = book_data[book_data[\"Name\"] == name]\n",
    "    if name_book_data[\"Price\"].iloc[0] != name_book_data[\"Price\"].mean():\n",
    "        example = name_book_data\n",
    "        count += 1\n",
    "       \n",
    "print(\"case의 개수: {}개\".format(count))\n",
    "example"
   ]
  },
  {
   "cell_type": "markdown",
   "metadata": {},
   "source": [
    "### case2 분석\n",
    "- case1에서는 책이 개편된 경우를 추론할 수 있다. 하지만 이 경우에는, 책이 단순하게 가격인하를 통해 변경되었기에 Price를 제외한 다른 특성은 년도에 따라 동일함을 알 수 있다.\n",
    "- 가격이 변동된 케이스의 책은 9종류가 있다."
   ]
  },
  {
   "cell_type": "markdown",
   "metadata": {},
   "source": [
    "## case3. 같은 책의 Author"
   ]
  },
  {
   "cell_type": "code",
   "execution_count": 5,
   "metadata": {},
   "outputs": [
    {
     "name": "stdout",
     "output_type": "stream",
     "text": [
      "같은 책에 다른 작가는 없다.\n"
     ]
    }
   ],
   "source": [
    "# case3. 같은 책의 Author 비교\n",
    "# 같은 책에서 Author가 다른 경우가 존재할 경우 그 책들의 데이터를 출력했다.\n",
    "\n",
    "name_count = book_data.groupby([\"Name\"]).count()\n",
    "long_years_books = list(name_count[name_count[\"Author\"] > 1].index)\n",
    "for name in long_years_books:\n",
    "    name_book_data = book_data[book_data[\"Name\"] == name]\n",
    "    if name_book_data[\"Author\"].iloc[0] != name_book_data[\"Author\"].iloc[1]:\n",
    "        print(\"같은 책에 다른 작가가 존재한다\")\n",
    "else:\n",
    "    print(\"같은 책에 다른 작가는 없다.\")"
   ]
  },
  {
   "cell_type": "markdown",
   "metadata": {},
   "source": [
    "### case3 분석\n",
    "책의 제목이 동일하다면 같은 작가이다. (동일 제목이지만, 다른 책의 경우는 없다.)"
   ]
  },
  {
   "cell_type": "markdown",
   "metadata": {},
   "source": [
    "## case4. 같은 책의 User rating"
   ]
  },
  {
   "cell_type": "code",
   "execution_count": 6,
   "metadata": {},
   "outputs": [
    {
     "name": "stdout",
     "output_type": "stream",
     "text": [
      "case의 개수: 1개\n"
     ]
    }
   ],
   "source": [
    "# case3. 같은 책의 User rating 비교\n",
    "# 같은 책에서 User rating가 다른 경우가 존재할 경우 그 책들의 데이터를 출력했다.\n",
    "\n",
    "count = 0\n",
    "name_count = book_data.groupby([\"Name\"]).count()\n",
    "long_years_books = list(name_count[name_count[\"Author\"] > 1].index)\n",
    "for name in long_years_books:\n",
    "    name_book_data = book_data[book_data[\"Name\"] == name]\n",
    "    if abs(name_book_data[\"User Rating\"].iloc[0] - name_book_data[\"User Rating\"].mean()) >= 1e-9:\n",
    "        count += 1\n",
    "\n",
    "print(\"case의 개수: {}개\".format(count))"
   ]
  },
  {
   "cell_type": "markdown",
   "metadata": {},
   "source": [
    "### case4 분석\n",
    "- case1의 경우와 동일한 경우이다."
   ]
  },
  {
   "cell_type": "markdown",
   "metadata": {},
   "source": [
    "## 자료 확인 결과\n",
    "- 같은 책에 대해서 여러번 반복하는 경우가 있다.\n",
    "- 책이 개편된 경우는 새로운 책으로 간주하여 Review와 Price를 계산한다.\n",
    "- 전체적인 경향성을 분석할 때는 변형하지 않고 데이터를 이용한다.\n",
    "- 년도 별로 비교할 경우, 기존의 데이터를 사용한다. "
   ]
  },
  {
   "cell_type": "markdown",
   "metadata": {},
   "source": [
    "# 데이터의 가설\n",
    "1. fiction이 non-fiction보다 평균 review수가 높을 것이다. \n",
    "    - fiction의 경우 쉽게 재미와 느낀 점을 말할 수 있어 review를 많이 달 것이다.\n",
    "    - non-fiction의 경우 전공서적과 같은 학습용 교재도 포함하기에 review가 상대적으로 적을 것이다.\n",
    "2. 해를 거듭할수록 Review 수가 줄어든다.\n",
    "    - 사람들이 정보 및 오락을 유투브, 구글 등의 인터넷을 통해 얻는다.\n",
    "    - 따라서 책을 적게 읽고, Reivew를 올릴 확률이 줄어든다."
   ]
  },
  {
   "cell_type": "markdown",
   "metadata": {},
   "source": [
    "## 가설1. 검증"
   ]
  },
  {
   "cell_type": "code",
   "execution_count": 21,
   "metadata": {},
   "outputs": [
    {
     "data": {
      "text/html": [
       "<div>\n",
       "<style scoped>\n",
       "    .dataframe tbody tr th:only-of-type {\n",
       "        vertical-align: middle;\n",
       "    }\n",
       "\n",
       "    .dataframe tbody tr th {\n",
       "        vertical-align: top;\n",
       "    }\n",
       "\n",
       "    .dataframe thead th {\n",
       "        text-align: right;\n",
       "    }\n",
       "</style>\n",
       "<table border=\"1\" class=\"dataframe\">\n",
       "  <thead>\n",
       "    <tr style=\"text-align: right;\">\n",
       "      <th></th>\n",
       "      <th>Reviews</th>\n",
       "    </tr>\n",
       "    <tr>\n",
       "      <th>Genre</th>\n",
       "      <th></th>\n",
       "    </tr>\n",
       "  </thead>\n",
       "  <tbody>\n",
       "    <tr>\n",
       "      <th>Fiction</th>\n",
       "      <td>15683.791667</td>\n",
       "    </tr>\n",
       "    <tr>\n",
       "      <th>Non Fiction</th>\n",
       "      <td>9065.145161</td>\n",
       "    </tr>\n",
       "  </tbody>\n",
       "</table>\n",
       "</div>"
      ],
      "text/plain": [
       "                  Reviews\n",
       "Genre                    \n",
       "Fiction      15683.791667\n",
       "Non Fiction   9065.145161"
      ]
     },
     "execution_count": 21,
     "metadata": {},
     "output_type": "execute_result"
    }
   ],
   "source": [
    "# Total numbers of Fiction / Non Fiction\n",
    "# 같은 책을 반복해서 count한 경우\n",
    "\n",
    "book_data.groupby(['Genre']).mean()[[\"Reviews\"]]"
   ]
  },
  {
   "cell_type": "code",
   "execution_count": 8,
   "metadata": {},
   "outputs": [
    {
     "data": {
      "text/html": [
       "<div>\n",
       "<style scoped>\n",
       "    .dataframe tbody tr th:only-of-type {\n",
       "        vertical-align: middle;\n",
       "    }\n",
       "\n",
       "    .dataframe tbody tr th {\n",
       "        vertical-align: top;\n",
       "    }\n",
       "\n",
       "    .dataframe thead th {\n",
       "        text-align: right;\n",
       "    }\n",
       "</style>\n",
       "<table border=\"1\" class=\"dataframe\">\n",
       "  <thead>\n",
       "    <tr style=\"text-align: right;\">\n",
       "      <th></th>\n",
       "      <th>Reviews</th>\n",
       "    </tr>\n",
       "    <tr>\n",
       "      <th>Genre</th>\n",
       "      <th></th>\n",
       "    </tr>\n",
       "  </thead>\n",
       "  <tbody>\n",
       "    <tr>\n",
       "      <th>Fiction</th>\n",
       "      <td>13111.068750</td>\n",
       "    </tr>\n",
       "    <tr>\n",
       "      <th>Non Fiction</th>\n",
       "      <td>7015.427076</td>\n",
       "    </tr>\n",
       "  </tbody>\n",
       "</table>\n",
       "</div>"
      ],
      "text/plain": [
       "                  Reviews\n",
       "Genre                    \n",
       "Fiction      13111.068750\n",
       "Non Fiction   7015.427076"
      ]
     },
     "execution_count": 8,
     "metadata": {},
     "output_type": "execute_result"
    }
   ],
   "source": [
    "# 같은 책은 평균값으로 Count한 경우 -> 전자에 비해 정확한 정보\n",
    "\n",
    "book_data.groupby(['Name', 'Genre']).mean().groupby(['Genre']).mean()[[\"Reviews\"]]"
   ]
  },
  {
   "cell_type": "code",
   "execution_count": 9,
   "metadata": {},
   "outputs": [
    {
     "data": {
      "image/png": "[encoded data removed]",
      "text/plain": [
       "<Figure size 432x288 with 1 Axes>"
      ]
     },
     "metadata": {
      "needs_background": "light"
     },
     "output_type": "display_data"
    }
   ],
   "source": [
    "# 평균값으로 Count한 경우의 Reviews 비교\n",
    "\n",
    "sns.barplot(\n",
    "    data= book_data.groupby(['Genre']).mean(),\n",
    "    x= [\"Fiction\", \"Non Fiction\"],\n",
    "    y= \"Reviews\"\n",
    ")\n",
    "plt.show()"
   ]
  },
  {
   "cell_type": "markdown",
   "metadata": {},
   "source": [
    "## 가설2. 검증"
   ]
  },
  {
   "cell_type": "code",
   "execution_count": 10,
   "metadata": {},
   "outputs": [
    {
     "data": {
      "text/html": [
       "<div>\n",
       "<style scoped>\n",
       "    .dataframe tbody tr th:only-of-type {\n",
       "        vertical-align: middle;\n",
       "    }\n",
       "\n",
       "    .dataframe tbody tr th {\n",
       "        vertical-align: top;\n",
       "    }\n",
       "\n",
       "    .dataframe thead th {\n",
       "        text-align: right;\n",
       "    }\n",
       "</style>\n",
       "<table border=\"1\" class=\"dataframe\">\n",
       "  <thead>\n",
       "    <tr style=\"text-align: right;\">\n",
       "      <th></th>\n",
       "      <th>User Rating</th>\n",
       "      <th>Reviews</th>\n",
       "      <th>Price</th>\n",
       "    </tr>\n",
       "    <tr>\n",
       "      <th>Year</th>\n",
       "      <th></th>\n",
       "      <th></th>\n",
       "      <th></th>\n",
       "    </tr>\n",
       "  </thead>\n",
       "  <tbody>\n",
       "    <tr>\n",
       "      <th>2009</th>\n",
       "      <td>229.2</td>\n",
       "      <td>235506</td>\n",
       "      <td>770</td>\n",
       "    </tr>\n",
       "    <tr>\n",
       "      <th>2010</th>\n",
       "      <td>227.9</td>\n",
       "      <td>273981</td>\n",
       "      <td>674</td>\n",
       "    </tr>\n",
       "    <tr>\n",
       "      <th>2011</th>\n",
       "      <td>227.9</td>\n",
       "      <td>405041</td>\n",
       "      <td>755</td>\n",
       "    </tr>\n",
       "    <tr>\n",
       "      <th>2012</th>\n",
       "      <td>226.6</td>\n",
       "      <td>654546</td>\n",
       "      <td>765</td>\n",
       "    </tr>\n",
       "    <tr>\n",
       "      <th>2013</th>\n",
       "      <td>227.7</td>\n",
       "      <td>654907</td>\n",
       "      <td>730</td>\n",
       "    </tr>\n",
       "    <tr>\n",
       "      <th>2014</th>\n",
       "      <td>231.1</td>\n",
       "      <td>792997</td>\n",
       "      <td>732</td>\n",
       "    </tr>\n",
       "    <tr>\n",
       "      <th>2015</th>\n",
       "      <td>232.4</td>\n",
       "      <td>711669</td>\n",
       "      <td>521</td>\n",
       "    </tr>\n",
       "    <tr>\n",
       "      <th>2016</th>\n",
       "      <td>233.9</td>\n",
       "      <td>709800</td>\n",
       "      <td>659</td>\n",
       "    </tr>\n",
       "    <tr>\n",
       "      <th>2017</th>\n",
       "      <td>233.0</td>\n",
       "      <td>644420</td>\n",
       "      <td>569</td>\n",
       "    </tr>\n",
       "    <tr>\n",
       "      <th>2018</th>\n",
       "      <td>233.4</td>\n",
       "      <td>696521</td>\n",
       "      <td>526</td>\n",
       "    </tr>\n",
       "    <tr>\n",
       "      <th>2019</th>\n",
       "      <td>237.0</td>\n",
       "      <td>794917</td>\n",
       "      <td>504</td>\n",
       "    </tr>\n",
       "  </tbody>\n",
       "</table>\n",
       "</div>"
      ],
      "text/plain": [
       "      User Rating  Reviews  Price\n",
       "Year                             \n",
       "2009        229.2   235506    770\n",
       "2010        227.9   273981    674\n",
       "2011        227.9   405041    755\n",
       "2012        226.6   654546    765\n",
       "2013        227.7   654907    730\n",
       "2014        231.1   792997    732\n",
       "2015        232.4   711669    521\n",
       "2016        233.9   709800    659\n",
       "2017        233.0   644420    569\n",
       "2018        233.4   696521    526\n",
       "2019        237.0   794917    504"
      ]
     },
     "execution_count": 10,
     "metadata": {},
     "output_type": "execute_result"
    }
   ],
   "source": [
    "# 년도별 Reivews 수 총합\n",
    "book_data.groupby([\"Year\"]).sum()"
   ]
  },
  {
   "cell_type": "code",
   "execution_count": 20,
   "metadata": {},
   "outputs": [
    {
     "data": {
      "image/png": "[encoded data removed]",
      "text/plain": [
       "<Figure size 576x288 with 1 Axes>"
      ]
     },
     "metadata": {
      "needs_background": "light"
     },
     "output_type": "display_data"
    }
   ],
   "source": [
    "plt.figure(figsize=(8, 4))\n",
    "\n",
    "plt.title(\"Total number of Best 50 reviews by year\")\n",
    "plt.axis([2009, 2020, 200000, 850000])\n",
    "plt.xticks(range(2009, 2020))\n",
    "plt.yticks(range(200000, 900000, 100000))\n",
    "plt.xlabel(\"year\")\n",
    "plt.ylabel(\"Reviews(sum)\")\n",
    "\n",
    "plt.plot(range(2009, 2020), book_data.groupby([\"Year\"]).sum()[\"Reviews\"])\n",
    "plt.show()"
   ]
  },
  {
   "cell_type": "markdown",
   "metadata": {},
   "source": [
    "## 가설 분석\n",
    "### 가설1.\n",
    "- 가설1의 경우에는 예측과 동일하게 Fiction의 평균 Review 수가 Non-Fiction의 Review 수보다 높았다.\n",
    "- 다만 가설1을 뒷받침하는 증거를 어느 정도 뒷받침할 수 있다.\n",
    "\n",
    "### 가설2.\n",
    "- 가설2의 경우에는 예측과는 정반대의 결과가 나왔다.\n",
    "- 해가 지날수록 Review 수는 상승하는 곡선을 그린다.\n",
    "- 그 이유를 추론하자면, 해가 지날수록 인터넷의 발달로 독자들이 책의 리뷰를 작성하기 쉬워졌기 때문이다.  \n",
    "2009년에 비해 2019년 인터넷 사용이 활발해졌기에, 더 많은 Review 수가 나왔다고 추론한다."
   ]
  }
 ],
 "metadata": {
  "kernelspec": {
   "display_name": "Python3.8(jupyter_project)",
   "language": "python",
   "name": "myvenv"
  },
  "language_info": {
   "codemirror_mode": {
    "name": "ipython",
    "version": 3
   },
   "file_extension": ".py",
   "mimetype": "text/x-python",
   "name": "python",
   "nbconvert_exporter": "python",
   "pygments_lexer": "ipython3",
   "version": "3.8.5"
  }
 },
 "nbformat": 4,
 "nbformat_minor": 4
}
